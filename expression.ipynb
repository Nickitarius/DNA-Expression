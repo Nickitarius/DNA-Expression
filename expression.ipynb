{
 "cells": [
  {
   "cell_type": "code",
   "execution_count": 98,
   "metadata": {},
   "outputs": [],
   "source": [
    "def read_input(name):\n",
    "    with open(name, 'r') as f:\n",
    "        lines = f.readlines()\n",
    "\n",
    "    for i in range(len(lines)):\n",
    "        lines[i] = lines[i].replace(\"\\n\", \"\")\n",
    "\n",
    "    first_line = lines[0].split(\" \")\n",
    "    first_line = [int(numeric_string) for numeric_string in first_line]\n",
    "    n = first_line[0]\n",
    "    m = first_line[1]\n",
    "\n",
    "    genes = []\n",
    "    for i in range(1, 1+n):\n",
    "        line = lines[i].split(\" \")\n",
    "        line = [int(numeric_string) for numeric_string in line]\n",
    "        # genes_intervals.append(lines)\n",
    "        genes.append(line)\n",
    "\n",
    "    reads = []\n",
    "    for i in range(1+n, 1+m+n):\n",
    "        line = lines[i].split(\" \")\n",
    "        line = [int(numeric_string) for numeric_string in line]\n",
    "        # genes_intervals.append(lines)\n",
    "        reads.append(line)\n",
    "\n",
    "    # print(genes)\n",
    "    # print(reads)\n",
    "\n",
    "    return n, m, genes, reads\n"
   ]
  },
  {
   "cell_type": "code",
   "execution_count": 99,
   "metadata": {},
   "outputs": [
    {
     "data": {
      "text/plain": [
       "[0, 0, 1]"
      ]
     },
     "execution_count": 99,
     "metadata": {},
     "output_type": "execute_result"
    }
   ],
   "source": [
    "n, m, genes, reads = read_input('./tests-easy/1')\n",
    "intersectionsReads = []\n",
    "intersectionsGenes = []\n",
    "\n",
    "# Iterate over genes\n",
    "for i in range(n):\n",
    "    # Iterate over each gene interval\n",
    "    for j in range(0, len(genes[i]), 2):\n",
    "        # print(f'{genes[i][j]}\\n')\n",
    "        # Iterate over reads\n",
    "        for k in range(m):\n",
    "            # print(reads[k])\n",
    "            # Iterate over each read interval\n",
    "            for r in range(0, len(reads[k]), 2):\n",
    "                isLeftIn = reads[k][r] >= genes[i][j] and \\\n",
    "                    reads[k][r] <= genes[i][j+1]\n",
    "                isRightIn = reads[k][r + 1] >= genes[i][j] and \\\n",
    "                    reads[k][r+1] <= genes[i][j+1]\n",
    "                isIncluding = reads[k][r] <= genes[i][j] and \\\n",
    "                    reads[k][r + 1] >= genes[i][j+1]\n",
    "                if (isLeftIn or isRightIn or isIncluding):\n",
    "                    # intersections.append({'gene': [i, j], 'read': [k, r]})\n",
    "                    intersectionsReads.append([k, r])\n",
    "                    # intersectionsGenes.append([i, j])\n",
    "                    intersectionsGenes.append(i)\n",
    "\n",
    "uniqueIntersections = []\n",
    "for i in range(len(intersectionsReads)):\n",
    "    if (intersectionsReads.count(intersectionsReads[i]) == 1):\n",
    "        uniqueIntersections.append(intersectionsGenes[i])\n",
    "\n",
    "uniqueIntersections\n"
   ]
  }
 ],
 "metadata": {
  "kernelspec": {
   "display_name": "Python 3",
   "language": "python",
   "name": "python3"
  },
  "language_info": {
   "codemirror_mode": {
    "name": "ipython",
    "version": 3
   },
   "file_extension": ".py",
   "mimetype": "text/x-python",
   "name": "python",
   "nbconvert_exporter": "python",
   "pygments_lexer": "ipython3",
   "version": "3.10.4"
  }
 },
 "nbformat": 4,
 "nbformat_minor": 2
}
